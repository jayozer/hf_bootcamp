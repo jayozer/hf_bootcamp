{
 "cells": [
  {
   "cell_type": "markdown",
   "id": "d3bb3727-f88f-465e-892f-910ba0ef012d",
   "metadata": {},
   "source": [
    "## Loading a Theme\n",
    "\n",
    "Gradio provides several built-in themes that you can apply to your interface. Let's start by loading a theme.\n",
    "\n",
    "The following themes are [available](https://www.gradio.app/guides/theming-guide):\n",
    "\n",
    "- gr.themes.Base()\n",
    "- gr.themes.Default()\n",
    "- gr.themes.Glass()\n",
    "- gr.themes.Monochrome()\n",
    "- gr.themes.Soft()\n"
   ]
  },
  {
   "cell_type": "code",
   "execution_count": 7,
   "id": "092242cb-828a-4def-8325-356c26068a67",
   "metadata": {},
   "outputs": [
    {
     "name": "stdout",
     "output_type": "stream",
     "text": [
      "Running on local URL:  http://127.0.0.1:7865\n",
      "\n",
      "To create a public link, set `share=True` in `launch()`.\n"
     ]
    },
    {
     "data": {
      "text/html": [
       "<div><iframe src=\"http://127.0.0.1:7865/\" width=\"100%\" height=\"500\" allow=\"autoplay; camera; microphone; clipboard-read; clipboard-write;\" frameborder=\"0\" allowfullscreen></iframe></div>"
      ],
      "text/plain": [
       "<IPython.core.display.HTML object>"
      ]
     },
     "metadata": {},
     "output_type": "display_data"
    },
    {
     "data": {
      "text/plain": []
     },
     "execution_count": 7,
     "metadata": {},
     "output_type": "execute_result"
    }
   ],
   "source": [
    "import gradio as gr\n",
    "\n",
    "def greet(name):\n",
    "    return f\"Hello, {name}!\"\n",
    "\n",
    "demo = gr.Interface(\n",
    "    fn=greet,\n",
    "    inputs=\"text\",\n",
    "    outputs=\"text\",\n",
    "    theme=gr.themes.Monochrome()  # Load the default theme\n",
    ")\n",
    "\n",
    "# Launch the interface\n",
    "demo.launch()\n"
   ]
  },
  {
   "cell_type": "markdown",
   "id": "53da29a9-c7e6-4e21-9d86-d2cecbd80e5b",
   "metadata": {},
   "source": [
    "## Theme Builder\n",
    "\n",
    "To create custom themes you can use the [theme builder](https://www.gradio.app/guides/theming-guide#using-the-theme-builder).\n",
    "It comes with a detailed instruction panel on the right."
   ]
  },
  {
   "cell_type": "code",
   "execution_count": 8,
   "id": "d9690bd2-a1e7-4d50-8956-c10ed00607de",
   "metadata": {},
   "outputs": [
    {
     "name": "stdout",
     "output_type": "stream",
     "text": [
      "Running on local URL:  http://127.0.0.1:7866\n",
      "\n",
      "To create a public link, set `share=True` in `launch()`.\n"
     ]
    },
    {
     "data": {
      "text/html": [
       "<div><iframe src=\"http://127.0.0.1:7866/\" width=\"100%\" height=\"500\" allow=\"autoplay; camera; microphone; clipboard-read; clipboard-write;\" frameborder=\"0\" allowfullscreen></iframe></div>"
      ],
      "text/plain": [
       "<IPython.core.display.HTML object>"
      ]
     },
     "metadata": {},
     "output_type": "display_data"
    },
    {
     "data": {
      "text/plain": []
     },
     "execution_count": 8,
     "metadata": {},
     "output_type": "execute_result"
    }
   ],
   "source": [
    "gr.themes.builder()\n"
   ]
  },
  {
   "cell_type": "markdown",
   "id": "9d05d25f-c8e3-494d-8b92-0ea98f319d89",
   "metadata": {},
   "source": [
    "Let's use our new theme! Please don't be too harsh about my design skills"
   ]
  },
  {
   "cell_type": "code",
   "execution_count": 13,
   "id": "ce235123-8e3f-4492-b9a2-1c095cc1713b",
   "metadata": {},
   "outputs": [
    {
     "name": "stdout",
     "output_type": "stream",
     "text": [
      "Running on local URL:  http://127.0.0.1:7871\n",
      "\n",
      "To create a public link, set `share=True` in `launch()`.\n"
     ]
    },
    {
     "data": {
      "text/html": [
       "<div><iframe src=\"http://127.0.0.1:7871/\" width=\"100%\" height=\"500\" allow=\"autoplay; camera; microphone; clipboard-read; clipboard-write;\" frameborder=\"0\" allowfullscreen></iframe></div>"
      ],
      "text/plain": [
       "<IPython.core.display.HTML object>"
      ]
     },
     "metadata": {},
     "output_type": "display_data"
    },
    {
     "data": {
      "text/plain": []
     },
     "execution_count": 13,
     "metadata": {},
     "output_type": "execute_result"
    }
   ],
   "source": [
    "import gradio as gr\n",
    "\n",
    "theme = gr.themes.Base(\n",
    "    primary_hue=\"gray\",\n",
    "    secondary_hue=\"gray\",\n",
    "    neutral_hue=\"green\",\n",
    "    text_size=\"lg\",\n",
    "    spacing_size=\"lg\",\n",
    "    radius_size=\"sm\",\n",
    ")\n",
    "\n",
    "\n",
    "demo = gr.Interface(\n",
    "    fn=greet,\n",
    "    inputs=\"text\",\n",
    "    outputs=\"text\",\n",
    "    theme=theme  # Load the default theme\n",
    ")\n",
    "\n",
    "# Launch the interface\n",
    "demo.launch()"
   ]
  },
  {
   "cell_type": "markdown",
   "id": "f31166db-ec18-4e9c-84f7-1ef33af64370",
   "metadata": {},
   "source": [
    "## Downloading themes\n",
    "If you are not a skilled designer like me, there are plenty of themes to download from the gradio [theme gallery](https://huggingface.co/spaces/gradio/theme-gallery).\n",
    "\n",
    "To obtain the theme, you just need to pass the name and creator of the theme to `gr.Theme.from_hub`"
   ]
  },
  {
   "cell_type": "code",
   "execution_count": 14,
   "id": "1953255d-85e9-49e0-9350-075e71487c4f",
   "metadata": {},
   "outputs": [
    {
     "data": {
      "application/vnd.jupyter.widget-view+json": {
       "model_id": "e06210967f6f4d22a1398223b11b493e",
       "version_major": 2,
       "version_minor": 0
      },
      "text/plain": [
       "themes/theme_schema@0.0.4.json:   0%|          | 0.00/12.6k [00:00<?, ?B/s]"
      ]
     },
     "metadata": {},
     "output_type": "display_data"
    },
    {
     "name": "stdout",
     "output_type": "stream",
     "text": [
      "Running on local URL:  http://127.0.0.1:7872\n",
      "\n",
      "To create a public link, set `share=True` in `launch()`.\n"
     ]
    },
    {
     "data": {
      "text/html": [
       "<div><iframe src=\"http://127.0.0.1:7872/\" width=\"100%\" height=\"500\" allow=\"autoplay; camera; microphone; clipboard-read; clipboard-write;\" frameborder=\"0\" allowfullscreen></iframe></div>"
      ],
      "text/plain": [
       "<IPython.core.display.HTML object>"
      ]
     },
     "metadata": {},
     "output_type": "display_data"
    },
    {
     "data": {
      "text/plain": []
     },
     "execution_count": 14,
     "metadata": {},
     "output_type": "execute_result"
    }
   ],
   "source": [
    "theme = gr.Theme.from_hub(\"gstaff/xkcd\")\n",
    "\n",
    "demo = gr.Interface(\n",
    "    fn=greet,\n",
    "    inputs=\"text\",\n",
    "    outputs=\"text\",\n",
    "    theme=theme  # Load the default theme\n",
    ")\n",
    "\n",
    "# Launch the interface\n",
    "demo.launch()"
   ]
  },
  {
   "cell_type": "markdown",
   "id": "626538d5-43e8-4f8f-bae8-b3bf77756768",
   "metadata": {},
   "source": [
    "# Custom CSS"
   ]
  },
  {
   "cell_type": "code",
   "execution_count": null,
   "id": "b8b95aa0-f352-44a2-8a53-8d1bd536dea8",
   "metadata": {},
   "outputs": [],
   "source": [
    "css = \"\"\"\n",
    ".gradio-container {background-color: Black}\n",
    "#error_id {background-color: Red}\n",
    ".textbox_class textarea {font-size: 48px}\n",
    "\"\"\"\n",
    "with gr.Blocks(css=css) as demo:\n",
    "    box1 = gr.Text(value=\"Good Job\", elem_classes=\"textbox_class\")\n",
    "    box2 = gr.Text(value=\"Failure\", elem_id=\"error_id\")\n",
    "    box3 = gr.Text(value=\"Failure\", elem_id=\"error_id\", elem_classes=\"textbox_class\")\n",
    "\n",
    "demo.launch()"
   ]
  }
 ],
 "metadata": {
  "kernelspec": {
   "display_name": "Python 3 (ipykernel)",
   "language": "python",
   "name": "python3"
  },
  "language_info": {
   "codemirror_mode": {
    "name": "ipython",
    "version": 3
   },
   "file_extension": ".py",
   "mimetype": "text/x-python",
   "name": "python",
   "nbconvert_exporter": "python",
   "pygments_lexer": "ipython3",
   "version": "3.9.12"
  }
 },
 "nbformat": 4,
 "nbformat_minor": 5
}
